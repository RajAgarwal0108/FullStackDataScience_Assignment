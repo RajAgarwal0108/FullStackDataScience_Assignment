{
 "cells": [
  {
   "cell_type": "markdown",
   "id": "8272c730",
   "metadata": {},
   "source": [
    "### Python Basics Assignment_1"
   ]
  },
  {
   "cell_type": "raw",
   "id": "8e43b30c",
   "metadata": {},
   "source": [
    "1. In the below elements which of them are values or an expression? eg:- values can be\n",
    "integer or string and expressions will be mathematical operators.\n",
    "*\n",
    "'hello'\n",
    "-87.8\n",
    "-\n",
    "/\n",
    "+\n",
    "6\n",
    "\n",
    "\n",
    "Ans: values: ['hello',-87.8,6]\n",
    "     expressions:[*,-,/,+]"
   ]
  },
  {
   "cell_type": "raw",
   "id": "8fa8de46",
   "metadata": {},
   "source": [
    "2. What is the difference between string and variable?\n",
    "\n",
    "Ans: String is a data type which indicate the type of data/value and\n",
    "    is generally enclosed within single or double quotes.\n",
    "    \n",
    "    Variable is a character or group of character used to store values \n",
    "    in it or assigning a name to values/data."
   ]
  },
  {
   "cell_type": "raw",
   "id": "d77312ca",
   "metadata": {},
   "source": [
    "3. Describe three different data types.\n",
    "\n",
    "Ans: Integer, String , Float"
   ]
  },
  {
   "cell_type": "raw",
   "id": "22531bfb",
   "metadata": {},
   "source": [
    "4. What is an expression made up of? What do all expressions do?\n",
    "\n",
    "Ans: Expressions are made up of operands and operators.\n",
    "    eg. a = b + c * d\n",
    "    [Expression generally used to perform different arthimetic\n",
    "     operations using operators ]"
   ]
  },
  {
   "cell_type": "raw",
   "id": "1eb2a5af",
   "metadata": {},
   "source": [
    "5. This assignment statements, like spam = 10. What is the difference between an\n",
    "expression and a statement?\n",
    "\n",
    "Ans: In the above example spam .is the assignment statement used to store the value in it, whereas (spam = 10) is an expression consists of variable(spam), constant(10) and operator(=) which connect both operand and constant"
   ]
  },
  {
   "cell_type": "raw",
   "id": "0681e553",
   "metadata": {},
   "source": [
    "6. After running the following code, what does the variable bacon contain?\n",
    "bacon = 22\n",
    "bacon + 1\n",
    "\n",
    "Ans: bacon = 23"
   ]
  },
  {
   "cell_type": "raw",
   "id": "e3b01440",
   "metadata": {},
   "source": [
    "7. What should the values of the following two terms be?\n",
    "'spam' + 'spamspam'\n",
    "'spam' *3\n",
    "\n",
    "Ans: Both the terms results in --> \"spamspamspam\""
   ]
  },
  {
   "cell_type": "raw",
   "id": "85866b90",
   "metadata": {},
   "source": [
    "8. Why is eggs a valid variable name while 100 is invalid?\n",
    "\n",
    "Ans: A variable name can only be started with a alpha character and not\n",
    "    with numeric type."
   ]
  },
  {
   "cell_type": "raw",
   "id": "4e1bc27e",
   "metadata": {},
   "source": [
    "9. What three functions can be used to get the integer, floating-point number, or string\n",
    "version of a value?\n",
    "\n",
    "Ans: int() for Integer\n",
    "     float() for Floating-point\n",
    "     str() fot string"
   ]
  },
  {
   "cell_type": "raw",
   "id": "c530cadd",
   "metadata": {},
   "source": [
    "10. Why does this expression cause an error? How can you fix it?\n",
    "'I have eaten' + 99 + 'burritos'\n",
    "\n",
    "Ans: The error has occured because a string can only be concatenated \n",
    "    to a string but in the above expression integer had been used.\n",
    "    \n",
    "    We can fix the error by enclosing 99 with a quote --> \"99\""
   ]
  }
 ],
 "metadata": {
  "kernelspec": {
   "display_name": "Python 3 (ipykernel)",
   "language": "python",
   "name": "python3"
  },
  "language_info": {
   "codemirror_mode": {
    "name": "ipython",
    "version": 3
   },
   "file_extension": ".py",
   "mimetype": "text/x-python",
   "name": "python",
   "nbconvert_exporter": "python",
   "pygments_lexer": "ipython3",
   "version": "3.9.7"
  }
 },
 "nbformat": 4,
 "nbformat_minor": 5
}
