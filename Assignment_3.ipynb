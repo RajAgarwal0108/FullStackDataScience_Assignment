{
 "cells": [
  {
   "cell_type": "markdown",
   "id": "becdacbd",
   "metadata": {},
   "source": [
    "## Assignment 3"
   ]
  },
  {
   "cell_type": "raw",
   "id": "66f8894c",
   "metadata": {},
   "source": [
    "1. Why are functions advantageous to have in your programs?\n",
    "\n",
    ">>> It help us in reusability of code and maintain a structure of the code.\n",
    "\n"
   ]
  },
  {
   "cell_type": "raw",
   "id": "332966e7",
   "metadata": {},
   "source": [
    "2. When does the code in a function run: when it's specified or when it's called?\n",
    "\n",
    ">>> when it's called\n"
   ]
  },
  {
   "cell_type": "raw",
   "id": "c16d580b",
   "metadata": {},
   "source": [
    "\n",
    "3. What statement creates a function?\n",
    "\n",
    ">>> def <function name>(<parameters>):\n",
    "        code...\n",
    "        "
   ]
  },
  {
   "cell_type": "raw",
   "id": "d338edff",
   "metadata": {},
   "source": [
    "        \n",
    "4. What is the difference between a function and a function call?\n",
    "\n",
    " >>> In function we write code so it can be reused, whereas\n",
    " function call means to call the function when we want to use the code. "
   ]
  },
  {
   "cell_type": "raw",
   "id": "59061adb",
   "metadata": {},
   "source": [
    " \n",
    "5. How many global scopes are there in a Python program? How many local scopes?\n",
    "\n",
    ">>>Global scope refers to the names of variables which are defined in the main body of a program. These are visible and accessed throughout the program.\n",
    "whereas, local scope refers to the names of variables which are defined inside a function."
   ]
  },
  {
   "cell_type": "raw",
   "id": "f455cbbb",
   "metadata": {},
   "source": [
    "6. What happens to variables in a local scope when the function call returns?\n",
    "\n",
    ">>> The local variable retains its value untill the next call of the function where again it gets initialized."
   ]
  },
  {
   "cell_type": "raw",
   "id": "2f171839",
   "metadata": {},
   "source": [
    "\n",
    "7. What is the concept of a return value? Is it possible to have a return value in an expression?\n",
    "\n",
    ">>> Inside a function we use the keyword return to return some values. We can use lambda expressions which can return required values."
   ]
  },
  {
   "cell_type": "raw",
   "id": "0ef60335",
   "metadata": {},
   "source": [
    "\n",
    "8. If a function does not have a return statement, what is the return value of a call to that function?\n",
    " >>> None"
   ]
  },
  {
   "cell_type": "raw",
   "id": "ac3edbfb",
   "metadata": {},
   "source": [
    "9. How do you make a function variable refer to the global variable?\n",
    "\n",
    ">>> By using the keyword global."
   ]
  },
  {
   "cell_type": "raw",
   "id": "fd71ebcb",
   "metadata": {},
   "source": [
    "10. What is the data type of None?\n",
    "\n",
    ">>> class 'NoneType'"
   ]
  },
  {
   "cell_type": "raw",
   "id": "04cfdcd7",
   "metadata": {},
   "source": [
    "11. What does the sentence import areallyourpetsnamederic do?\n",
    "\n",
    ">>> It imports all the classes and functions present inside the module areallyourpetsnamederic\n",
    "\n"
   ]
  },
  {
   "cell_type": "raw",
   "id": "34691df1",
   "metadata": {},
   "source": [
    "12. If you had a bacon() feature in a spam module, what would you call it after importing spam?\n",
    "\n",
    ">>>spam.bacon()"
   ]
  },
  {
   "cell_type": "raw",
   "id": "e359c407",
   "metadata": {},
   "source": [
    "13. What can you do to save a programme from crashing if it encounters an error?\n",
    "\n",
    ">>> we can use exception handling, using try and except block"
   ]
  },
  {
   "cell_type": "raw",
   "id": "dd2b1eea",
   "metadata": {},
   "source": [
    "\n",
    "14. What is the purpose of the try clause? What is the purpose of the except clause?\n",
    "\n",
    ">>> try clause run the code inside the try block, and if any error occured while executing the except clause catch that error which prevents crashing of the code"
   ]
  }
 ],
 "metadata": {
  "kernelspec": {
   "display_name": "Python 3 (ipykernel)",
   "language": "python",
   "name": "python3"
  },
  "language_info": {
   "codemirror_mode": {
    "name": "ipython",
    "version": 3
   },
   "file_extension": ".py",
   "mimetype": "text/x-python",
   "name": "python",
   "nbconvert_exporter": "python",
   "pygments_lexer": "ipython3",
   "version": "3.9.7"
  }
 },
 "nbformat": 4,
 "nbformat_minor": 5
}
