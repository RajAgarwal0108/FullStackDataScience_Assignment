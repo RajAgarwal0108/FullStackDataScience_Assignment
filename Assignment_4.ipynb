{
 "cells": [
  {
   "cell_type": "markdown",
   "id": "a84e6c93",
   "metadata": {},
   "source": [
    "## Assignment_4"
   ]
  },
  {
   "cell_type": "markdown",
   "id": "d19a97b2",
   "metadata": {},
   "source": [
    "1. What exactly is []?\n",
    "\n",
    ">>> [] this represents list type\n",
    " a = [1,2,3,4]"
   ]
  },
  {
   "cell_type": "markdown",
   "id": "5c690dbf",
   "metadata": {},
   "source": [
    "2. In a list of values stored in a variable called spam, how would you assign the value 'hello' as the\n",
    "third value? (Assume [2, 4, 6, 8, 10] are in spam.)\n",
    "\n",
    ">>> spam[2] = 'hello'"
   ]
  },
  {
   "cell_type": "markdown",
   "id": "9e61236a",
   "metadata": {},
   "source": [
    "### Let's pretend the spam includes the list ['a','b','c','d'] for the next three queries."
   ]
  },
  {
   "cell_type": "markdown",
   "id": "27f28948",
   "metadata": {},
   "source": [
    "3. What is the value of spam[int(int('3'*2)/11)] ?\n",
    "\n",
    ">>> 'd'"
   ]
  },
  {
   "cell_type": "markdown",
   "id": "89c93631",
   "metadata": {},
   "source": [
    "4. What is the value of spam[-1]?\n",
    "\n",
    ">>> 'd'"
   ]
  },
  {
   "cell_type": "markdown",
   "id": "c123428c",
   "metadata": {},
   "source": [
    "5. What is the value of spam[:2]?\n",
    "\n",
    ">>> ['a','b']"
   ]
  },
  {
   "cell_type": "markdown",
   "id": "408ca1c4",
   "metadata": {},
   "source": [
    "### Let's pretend bacon has the list [3.14,'cat',11,'cat',True] for the next three questions."
   ]
  },
  {
   "cell_type": "markdown",
   "id": "de28c184",
   "metadata": {},
   "source": [
    "6. What is the value of bacon.index('cat')?\n",
    "\n",
    ">>> 1\n"
   ]
  },
  {
   "cell_type": "markdown",
   "id": "11f0f1df",
   "metadata": {},
   "source": [
    "7. How does bacon.append(99) change the look of the list value in bacon?\n",
    ">>> bacon = [3.14,'cat',11,'cat',True,99]"
   ]
  },
  {
   "cell_type": "markdown",
   "id": "3e5b7f7c",
   "metadata": {},
   "source": [
    "8. How does bacon.remove('cat') change the look of the list in bacon?\n",
    "\n",
    ">>> bacon = [3.14, 11, 'cat', True, 99]"
   ]
  },
  {
   "cell_type": "markdown",
   "id": "de6b322c",
   "metadata": {},
   "source": [
    "9. What are the list concatenation and list replication operators?\n",
    ">>> '+' --> concatenation operator\n",
    "    '*' --> replication operator"
   ]
  },
  {
   "cell_type": "markdown",
   "id": "3998bb2f",
   "metadata": {},
   "source": [
    "10. What is difference between the list methods append() and insert()?\n",
    "\n",
    ">>> append() insert the value at the end of the list\n",
    "    whereas, insert() insert the value at the given index as the parameter in the insert method"
   ]
  },
  {
   "cell_type": "markdown",
   "id": "cd4edb3f",
   "metadata": {},
   "source": [
    "11. What are the two methods for removing items from a list?\n",
    "\n",
    ">>> pop() and remove(x)"
   ]
  },
  {
   "cell_type": "markdown",
   "id": "2b9f50fd",
   "metadata": {},
   "source": [
    "12. Describe how list values and string values are identical.\n",
    "\n",
    "\n",
    ">>> Both list and string are squences and in both of them values can be iterated through indexes"
   ]
  },
  {
   "cell_type": "markdown",
   "id": "f52ed743",
   "metadata": {},
   "source": [
    "13. What's the difference between tuples and lists?\n",
    "\n",
    ">>> Lists are mutable whereas tuple are immutable"
   ]
  },
  {
   "cell_type": "markdown",
   "id": "fa4f111e",
   "metadata": {},
   "source": [
    "14. How do you type a tuple value that only contains the integer 42?\n",
    "\n",
    ">>> a = (42,)"
   ]
  },
  {
   "cell_type": "markdown",
   "id": "cd12f5fb",
   "metadata": {},
   "source": [
    "15. How do you get a list value's tuple form? How do you get a tuple value's list form?\n",
    "\n",
    ">>> [1,2,3] ---> tuple([1,2,3])\n",
    ">>> (1,2,3) ---> list((1,2,3))"
   ]
  },
  {
   "cell_type": "markdown",
   "id": "f74e2ca4",
   "metadata": {},
   "source": [
    "16. Variables that 'contain' list values are not necessarily lists themselves. Instead, what do they\n",
    "contain?\n",
    "\n",
    ">>> the variable contain refrence to that list value"
   ]
  },
  {
   "cell_type": "markdown",
   "id": "9d198198",
   "metadata": {},
   "source": [
    "17. How do you distinguish between copy.copy() and copy.deepcopy()?\n",
    "\n",
    ">>> the copy() returns a shallow copy of list and \n",
    "deepcopy() return a deep copy of list.\n",
    "\n",
    "In case of deepcopy(), any changes made to a copy of object do \n",
    "not reflect in the original object."
   ]
  }
 ],
 "metadata": {
  "kernelspec": {
   "display_name": "Python 3 (ipykernel)",
   "language": "python",
   "name": "python3"
  },
  "language_info": {
   "codemirror_mode": {
    "name": "ipython",
    "version": 3
   },
   "file_extension": ".py",
   "mimetype": "text/x-python",
   "name": "python",
   "nbconvert_exporter": "python",
   "pygments_lexer": "ipython3",
   "version": "3.9.7"
  }
 },
 "nbformat": 4,
 "nbformat_minor": 5
}
