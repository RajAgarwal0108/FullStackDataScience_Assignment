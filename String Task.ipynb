{
 "cells": [
  {
   "cell_type": "raw",
   "id": "53b65289",
   "metadata": {},
   "source": [
    "s = \"this is My First Python programming class and i am learNING python string and its function\"\n",
    "1.Try to extract data from index one to index 300 with a jump of 3.\n",
    "2.Try to reverse a string withouut using reverse funtion \n",
    "3.Try to split a string after conversion of entire string in uppercas\n",
    "4.Try to convert the whole string into lower case\n",
    "5.Try to capitalize the whole string\n",
    "6.Write a difference between isalnum() and isalpha()\n",
    "7.Try to give example of expandtab\n",
    "8.Give an example of strip, lstrip,rstrip\n",
    "9.Replace a string character by another character \n",
    "10.Try to give a definition of string centre function with an example\n",
    "11.Write your own definition of compiler and interpreter \n",
    "12.Python is an interpreted and compiled language \n",
    "13.Try to write a usecase of python with youor understanding"
   ]
  },
  {
   "cell_type": "code",
   "execution_count": 13,
   "id": "f5436ee9",
   "metadata": {},
   "outputs": [],
   "source": [
    "s = \"this is My First Python programming class and i am learNING python string and its function\""
   ]
  },
  {
   "cell_type": "code",
   "execution_count": 3,
   "id": "ee3b0059",
   "metadata": {},
   "outputs": [
    {
     "data": {
      "text/plain": [
       "'h   r tnrrmglsnimeNGyosi dtfco'"
      ]
     },
     "execution_count": 3,
     "metadata": {},
     "output_type": "execute_result"
    }
   ],
   "source": [
    "# q-1\n",
    "s[1:300:3]"
   ]
  },
  {
   "cell_type": "code",
   "execution_count": 4,
   "id": "d17f1223",
   "metadata": {},
   "outputs": [
    {
     "data": {
      "text/plain": [
       "'noitcnuf sti dna gnirts nohtyp GNINrael ma i dna ssalc gnimmargorp nohtyP tsriF yM si siht'"
      ]
     },
     "execution_count": 4,
     "metadata": {},
     "output_type": "execute_result"
    }
   ],
   "source": [
    "# q-2\n",
    "s[::-1]"
   ]
  },
  {
   "cell_type": "code",
   "execution_count": 10,
   "id": "2bb0fcb8",
   "metadata": {},
   "outputs": [
    {
     "data": {
      "text/plain": [
       "['THIS',\n",
       " 'IS',\n",
       " 'MY',\n",
       " 'FIRST',\n",
       " 'PYTHON',\n",
       " 'PROGRAMMING',\n",
       " 'CLASS',\n",
       " 'AND',\n",
       " 'I',\n",
       " 'AM',\n",
       " 'LEARNING',\n",
       " 'PYTHON',\n",
       " 'STRING',\n",
       " 'AND',\n",
       " 'ITS',\n",
       " 'FUNCTION']"
      ]
     },
     "execution_count": 10,
     "metadata": {},
     "output_type": "execute_result"
    }
   ],
   "source": [
    "#q-3\n",
    "s.upper().split(\" \")"
   ]
  },
  {
   "cell_type": "code",
   "execution_count": 11,
   "id": "4caf03ba",
   "metadata": {},
   "outputs": [
    {
     "data": {
      "text/plain": [
       "'this is my first python programming class and i am learning python string and its function'"
      ]
     },
     "execution_count": 11,
     "metadata": {},
     "output_type": "execute_result"
    }
   ],
   "source": [
    "#q-4\n",
    "s.lower()"
   ]
  },
  {
   "cell_type": "code",
   "execution_count": 15,
   "id": "504735ad",
   "metadata": {},
   "outputs": [
    {
     "data": {
      "text/plain": [
       "'This is my first python programming class and i am learning python string and its function'"
      ]
     },
     "execution_count": 15,
     "metadata": {},
     "output_type": "execute_result"
    }
   ],
   "source": [
    "# q-5\n",
    "s.capitalize()"
   ]
  },
  {
   "cell_type": "raw",
   "id": "830c5fc2",
   "metadata": {},
   "source": [
    "# q-6\n",
    "isalnum() checks whether a string contains both alpha(character)values\n",
    "and numerics values and return true as output.\n",
    "\n",
    "whereas, isalpha() only check wheter a string containd character or not"
   ]
  },
  {
   "cell_type": "code",
   "execution_count": 16,
   "id": "0e2c107f",
   "metadata": {},
   "outputs": [
    {
     "data": {
      "text/plain": [
       "'my      name    is      raj'"
      ]
     },
     "execution_count": 16,
     "metadata": {},
     "output_type": "execute_result"
    }
   ],
   "source": [
    "# q-7\n",
    "a = \"my\\tname\\tis\\traj\"\n",
    "a.expandtabs()"
   ]
  },
  {
   "cell_type": "code",
   "execution_count": 21,
   "id": "f5c5af97",
   "metadata": {},
   "outputs": [
    {
     "data": {
      "text/plain": [
       "'hello  world'"
      ]
     },
     "execution_count": 21,
     "metadata": {},
     "output_type": "execute_result"
    }
   ],
   "source": [
    "# q-8\n",
    "st = \"   hello  world    \"\n",
    "st.strip()"
   ]
  },
  {
   "cell_type": "code",
   "execution_count": 22,
   "id": "e2d67ab9",
   "metadata": {},
   "outputs": [
    {
     "data": {
      "text/plain": [
       "'hello  world    '"
      ]
     },
     "execution_count": 22,
     "metadata": {},
     "output_type": "execute_result"
    }
   ],
   "source": [
    "st.lstrip()"
   ]
  },
  {
   "cell_type": "code",
   "execution_count": 23,
   "id": "45c74812",
   "metadata": {},
   "outputs": [
    {
     "data": {
      "text/plain": [
       "'   hello  world'"
      ]
     },
     "execution_count": 23,
     "metadata": {},
     "output_type": "execute_result"
    }
   ],
   "source": [
    "st.rstrip()"
   ]
  },
  {
   "cell_type": "code",
   "execution_count": 25,
   "id": "8534df56",
   "metadata": {},
   "outputs": [
    {
     "data": {
      "text/plain": [
       "'thes es a streng'"
      ]
     },
     "execution_count": 25,
     "metadata": {},
     "output_type": "execute_result"
    }
   ],
   "source": [
    "# q-9\n",
    "# replacing i with e\n",
    "rs = \"this is a string\"\n",
    "rs.replace('i','e')"
   ]
  },
  {
   "cell_type": "code",
   "execution_count": 26,
   "id": "71dee355",
   "metadata": {},
   "outputs": [
    {
     "data": {
      "text/plain": [
       "'####Raj#####'"
      ]
     },
     "execution_count": 26,
     "metadata": {},
     "output_type": "execute_result"
    }
   ],
   "source": [
    "# q-10\n",
    "\"\"\" String centre bring our gib=ven string at the center of numerous \n",
    "character provided by us\"\"\"\n",
    "stt = \"Raj\"\n",
    "stt.center(12,\"#\")"
   ]
  },
  {
   "cell_type": "raw",
   "id": "49b40cc1",
   "metadata": {},
   "source": [
    "# q-11\n",
    "compiler checks the code for any error and convert the code into machine language.\n",
    "whereas interpreter reads the code converted by the compiler"
   ]
  },
  {
   "cell_type": "raw",
   "id": "74210273",
   "metadata": {},
   "source": [
    "# q-12\n",
    "python interprets the code when it is compiled and convert \n",
    "into compiled or machine language."
   ]
  },
  {
   "cell_type": "raw",
   "id": "c1dbd206",
   "metadata": {},
   "source": [
    "# q-13\n",
    "python can be used to developed multiple softwares..\n",
    "used in data science projects to create automated systems\n",
    "etc..."
   ]
  },
  {
   "cell_type": "code",
   "execution_count": null,
   "id": "16b5ed70",
   "metadata": {},
   "outputs": [],
   "source": []
  }
 ],
 "metadata": {
  "kernelspec": {
   "display_name": "Python 3 (ipykernel)",
   "language": "python",
   "name": "python3"
  },
  "language_info": {
   "codemirror_mode": {
    "name": "ipython",
    "version": 3
   },
   "file_extension": ".py",
   "mimetype": "text/x-python",
   "name": "python",
   "nbconvert_exporter": "python",
   "pygments_lexer": "ipython3",
   "version": "3.9.7"
  }
 },
 "nbformat": 4,
 "nbformat_minor": 5
}
