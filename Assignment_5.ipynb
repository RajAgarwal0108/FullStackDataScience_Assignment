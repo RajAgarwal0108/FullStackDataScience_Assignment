{
 "cells": [
  {
   "cell_type": "markdown",
   "id": "1c780759",
   "metadata": {},
   "source": [
    "# Assignment_5"
   ]
  },
  {
   "cell_type": "markdown",
   "id": "31cf2e84",
   "metadata": {},
   "source": [
    "1. What does an empty dictionary's code look like?\n",
    "\n",
    "    d = {} --> empty dictionary"
   ]
  },
  {
   "cell_type": "markdown",
   "id": "a4def67a",
   "metadata": {},
   "source": [
    "2. What is the value of a dictionary value with the key 'foo' and the value 42?\n",
    "\n",
    "    value of dictionary is 42 with the key 'foo'"
   ]
  },
  {
   "cell_type": "markdown",
   "id": "97d5b349",
   "metadata": {},
   "source": [
    "3. What is the most significant distinction between a dictionary and a list?\n",
    "\n",
    ">> In list we can fetch values through the indexes while dictionary stores\n",
    "    the value in key : value pair, to fetch the value we can use keys.\n"
   ]
  },
  {
   "cell_type": "markdown",
   "id": "9db0ce2a",
   "metadata": {},
   "source": [
    "4. What happens if you try to access spam['foo'] if spam is {'bar': 100}?\n",
    "\n",
    "    It returns the keyerror : 'foo'"
   ]
  },
  {
   "cell_type": "markdown",
   "id": "e3a49f96",
   "metadata": {},
   "source": [
    "5. If a dictionary is stored in spam, what is the difference between the expressions 'cat' in spam and\n",
    "'cat' in spam.keys()?\n",
    "\n",
    "   there is no difference in both the expression , either of them tell us whether 'cat' exists as key in dictionary or not"
   ]
  },
  {
   "cell_type": "markdown",
   "id": "3cb59d0f",
   "metadata": {},
   "source": [
    "6. If a dictionary is stored in spam, what is the difference between the expressions 'cat' in spam and\n",
    "'cat' in spam.values()?\n",
    "\n",
    "    o 'cat' in spam tell us whether 'cat' exists as a key or not in spam\n",
    "    \n",
    "    o 'cat' in spam.values() tell us whether, is there a value named 'cat' or not in spam"
   ]
  },
  {
   "cell_type": "markdown",
   "id": "03faeeb3",
   "metadata": {},
   "source": [
    "7. What is a shortcut for the following code?\n",
    "\n",
    "if 'color' not in spam:\n",
    "    spam['color'] = 'black'\n",
    "    \n",
    "    >> spam['color'] = 'black'"
   ]
  },
  {
   "cell_type": "markdown",
   "id": "7fb3b904",
   "metadata": {},
   "source": [
    "8. How do you \"pretty print\" dictionary values using which module and function?\n",
    "\n",
    "    using pprint.pprint(<dictionary name>)"
   ]
  }
 ],
 "metadata": {
  "kernelspec": {
   "display_name": "Python 3 (ipykernel)",
   "language": "python",
   "name": "python3"
  },
  "language_info": {
   "codemirror_mode": {
    "name": "ipython",
    "version": 3
   },
   "file_extension": ".py",
   "mimetype": "text/x-python",
   "name": "python",
   "nbconvert_exporter": "python",
   "pygments_lexer": "ipython3",
   "version": "3.9.7"
  }
 },
 "nbformat": 4,
 "nbformat_minor": 5
}
