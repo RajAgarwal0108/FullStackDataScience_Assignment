{
 "cells": [
  {
   "cell_type": "markdown",
   "id": "1560977c",
   "metadata": {},
   "source": [
    "### Python Basics Assignment_2\n"
   ]
  },
  {
   "cell_type": "raw",
   "id": "d326ad10",
   "metadata": {},
   "source": [
    "1.What are the two values of the Boolean data type?\n",
    "How do you write them?\n",
    "\n",
    "Ans: True and False\n",
    "     a = True\n",
    "     b = False\n",
    "    type:bool"
   ]
  },
  {
   "cell_type": "raw",
   "id": "20e69dcf",
   "metadata": {},
   "source": [
    "2. What are the three different types of Boolean operators?\n",
    "\n",
    "Ans:\n",
    "    And,Or,Not"
   ]
  },
  {
   "cell_type": "raw",
   "id": "ca69eb36",
   "metadata": {},
   "source": [
    "3. Make a list of each Boolean operator's truth tables (i.e. every possible combination of Booleanvalues for the operator and what it evaluate ).\n",
    "\n",
    "Ans:   T and F   |   T or F  |   Not T/F\n",
    "      -------------------------------------\n",
    "         F       |      T     |    Not T -- F\n",
    "         F       |      T     |    Not F -- T\n",
    "         F       |      T     |\n",
    "         T       |      F     |"
   ]
  },
  {
   "cell_type": "raw",
   "id": "36218bae",
   "metadata": {},
   "source": [
    "4. What are the values of the following expressions?\n",
    "\n",
    "(5 > 4) and (3 == 5) ---> False\n",
    "\n",
    "not (5 > 4) ---> False\n",
    "\n",
    "(5 > 4) or (3 == 5) ---> True\n",
    "\n",
    "not ((5 > 4) or (3 == 5)) ---> False\n",
    "\n",
    "(True and True) and (True == False) ---> True\n",
    "\n",
    "(not False) or (not True) ---> True"
   ]
  },
  {
   "cell_type": "raw",
   "id": "01d340b2",
   "metadata": {},
   "source": [
    "5. What are the six comparison operators?\n",
    "\n",
    "Ans: [ '==', '>', '<', '>=', '<=', '!=']"
   ]
  },
  {
   "cell_type": "raw",
   "id": "3c55e088",
   "metadata": {},
   "source": [
    "6. How do you tell the difference between the equal to and \n",
    "assignment operators?Describe a condition and when you would \n",
    "use one.\n",
    "\n",
    "Ans: equal to operator('==') is used for comparing two or more \n",
    "     objects, whereas assignment operator('=') is used to assign a \n",
    "    value to some variable.\n",
    "    \n",
    "    Example:\n",
    "        a = 10(assignmment operator)\n",
    "        if a == 10:(equal to operator)"
   ]
  },
  {
   "cell_type": "raw",
   "id": "4c72d39b",
   "metadata": {},
   "source": [
    "#7. Identify the three blocks in this code:\n",
    "spam = 0\n",
    "if spam == 10:\n",
    "print('eggs') --block 1\n",
    "if spam > 5:\n",
    "print('bacon') --block 2\n",
    "else:\n",
    "print('ham')  ---\n",
    "print('spam') ----| --block 3\n",
    "print('spam') ---\n",
    "\n",
    "Ans:\n",
    "    It will give an error for expected an indented block, in all \n",
    "    conditional statement."
   ]
  },
  {
   "cell_type": "raw",
   "id": "7ae95d91",
   "metadata": {},
   "source": [
    "8. Write code that prints Hello if 1 is stored in spam, prints Howdy if 2 is stored in spam, and prints\n",
    "Greetings! if anything else is stored in spam.\n",
    "\n",
    "\n"
   ]
  },
  {
   "cell_type": "code",
   "execution_count": null,
   "id": "d7069365",
   "metadata": {},
   "outputs": [],
   "source": [
    "spam = int(input(\"enter:\"))\n",
    "if spam == 1:\n",
    "    print('Hello')\n",
    "elif spam == 2:\n",
    "    print('Howdy')\n",
    "else:\n",
    "    print('Greetings!')"
   ]
  },
  {
   "cell_type": "raw",
   "id": "2bebab53",
   "metadata": {},
   "source": [
    "9.If your programme is stuck in an endless loop,\n",
    "what keys you’ll press?\n",
    "\n",
    "Ans: While running the code inside the shell we can press Ctrl + c,\n",
    "    which will stop the loop due to keyboard interuption."
   ]
  },
  {
   "cell_type": "raw",
   "id": "4b7de718",
   "metadata": {},
   "source": [
    "10. How can you tell the difference between break and continue?\n",
    "\n",
    "Ans: break will take us out of the whole process or loop,\n",
    "    whereas continue will skip this iteration and will jump to next.\n",
    "    "
   ]
  },
  {
   "cell_type": "raw",
   "id": "0098f56e",
   "metadata": {},
   "source": [
    "11. In a for loop, what is the difference between range(10),\n",
    "range(0, 10), and range(0, 10, 1)?\n",
    "\n",
    "Ans: As far as output is concerned there is no difference in all \n",
    "    of them.\n",
    "    But range(10) will iterate for 10 times.\n",
    "    range(0,10) will iterate starting from 0 and ending at 10-1\n",
    "    range(0,10,1) will start iteration from 0 and ends at 10-1 but \n",
    "    with a jump of 1"
   ]
  },
  {
   "cell_type": "raw",
   "id": "32c163a8",
   "metadata": {},
   "source": [
    "12. Write a short program that prints the numbers 1 to 10 using a for loop. Then write an equivalent\n",
    "program that prints the numbers 1 to 10 using a while loop."
   ]
  },
  {
   "cell_type": "code",
   "execution_count": 9,
   "id": "890625f6",
   "metadata": {},
   "outputs": [
    {
     "name": "stdout",
     "output_type": "stream",
     "text": [
      "1   2   3   4   5   6   7   8   9   10   \n",
      "1   2   3   4   5   6   7   8   9   10   "
     ]
    }
   ],
   "source": [
    "for i in range(1,11):\n",
    "    print(i,' ',end = ' ')\n",
    "print()\n",
    "j = 1\n",
    "#-----------------------------\n",
    "while j<=10:\n",
    "    print(j,' ',end = ' ')\n",
    "    j+=1\n"
   ]
  },
  {
   "cell_type": "raw",
   "id": "0f8dca85",
   "metadata": {},
   "source": [
    "13. If you had a function named bacon() inside a module named spam,\n",
    "how would you call it after importing spam?\n",
    "\n",
    "ans: spam.bacon()"
   ]
  },
  {
   "cell_type": "code",
   "execution_count": null,
   "id": "046d5e4f",
   "metadata": {},
   "outputs": [],
   "source": []
  }
 ],
 "metadata": {
  "kernelspec": {
   "display_name": "Python 3 (ipykernel)",
   "language": "python",
   "name": "python3"
  },
  "language_info": {
   "codemirror_mode": {
    "name": "ipython",
    "version": 3
   },
   "file_extension": ".py",
   "mimetype": "text/x-python",
   "name": "python",
   "nbconvert_exporter": "python",
   "pygments_lexer": "ipython3",
   "version": "3.9.7"
  }
 },
 "nbformat": 4,
 "nbformat_minor": 5
}
